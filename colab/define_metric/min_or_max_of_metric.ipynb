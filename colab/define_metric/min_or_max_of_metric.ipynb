{
  "nbformat": 4,
  "nbformat_minor": 0,
  "metadata": {
    "colab": {
      "name": "min_or_max_of_metric",
      "provenance": [],
      "authorship_tag": "ABX9TyMyaLpADc9OJCs1udMMwIui"
    },
    "kernelspec": {
      "name": "python3",
      "display_name": "Python 3"
    },
    "language_info": {
      "name": "python"
    }
  },
  "cells": [
    {
      "cell_type": "code",
      "metadata": {
        "id": "kLtzOVcNnMPe"
      },
      "source": [
        "%%capture\n",
        "!pip install wandb"
      ],
      "execution_count": 1,
      "outputs": []
    },
    {
      "cell_type": "code",
      "metadata": {
        "colab": {
          "base_uri": "https://localhost:8080/",
          "height": 153
        },
        "id": "fYtoZuOAnOUx",
        "outputId": "db672a16-7519-4043-cdae-374ac37717cb"
      },
      "source": [
        "import wandb\n",
        "import random\n",
        "random.seed(1)\n",
        "wandb.init()\n",
        "# define a metric we are interested in the minimum of\n",
        "wandb.define_metric(\"loss\", summary=\"min\")\n",
        "# define a metric we are interested in the maximum of\n",
        "wandb.define_metric(\"acc\", summary=\"max\")\n",
        "for i in range(10):\n",
        "  log_dict = {\n",
        "      \"loss\": random.uniform(0,1/(i+1)),\n",
        "      \"acc\": random.uniform(1/(i+1),1),\n",
        "      \"val_metric\": 1/(i+1)   \n",
        "  }\n",
        "  wandb.log(log_dict)"
      ],
      "execution_count": 2,
      "outputs": [
        {
          "output_type": "display_data",
          "data": {
            "application/javascript": [
              "\n",
              "        window._wandbApiKey = new Promise((resolve, reject) => {\n",
              "            function loadScript(url) {\n",
              "            return new Promise(function(resolve, reject) {\n",
              "                let newScript = document.createElement(\"script\");\n",
              "                newScript.onerror = reject;\n",
              "                newScript.onload = resolve;\n",
              "                document.body.appendChild(newScript);\n",
              "                newScript.src = url;\n",
              "            });\n",
              "            }\n",
              "            loadScript(\"https://cdn.jsdelivr.net/npm/postmate/build/postmate.min.js\").then(() => {\n",
              "            const iframe = document.createElement('iframe')\n",
              "            iframe.style.cssText = \"width:0;height:0;border:none\"\n",
              "            document.body.appendChild(iframe)\n",
              "            const handshake = new Postmate({\n",
              "                container: iframe,\n",
              "                url: 'https://wandb.ai/authorize'\n",
              "            });\n",
              "            const timeout = setTimeout(() => reject(\"Couldn't auto authenticate\"), 5000)\n",
              "            handshake.then(function(child) {\n",
              "                child.on('authorize', data => {\n",
              "                    clearTimeout(timeout)\n",
              "                    resolve(data)\n",
              "                });\n",
              "            });\n",
              "            })\n",
              "        });\n",
              "    "
            ],
            "text/plain": [
              "<IPython.core.display.Javascript object>"
            ]
          },
          "metadata": {
            "tags": []
          }
        },
        {
          "output_type": "stream",
          "text": [
            "\u001b[34m\u001b[1mwandb\u001b[0m: Appending key for api.wandb.ai to your netrc file: /root/.netrc\n"
          ],
          "name": "stderr"
        },
        {
          "output_type": "display_data",
          "data": {
            "text/html": [
              "\n",
              "                Tracking run with wandb version 0.10.30<br/>\n",
              "                Syncing run <strong style=\"color:#cdcd00\">feasible-flower-8</strong> to <a href=\"https://wandb.ai\" target=\"_blank\">Weights & Biases</a> <a href=\"https://docs.wandb.com/integrations/jupyter.html\" target=\"_blank\">(Documentation)</a>.<br/>\n",
              "                Project page: <a href=\"https://wandb.ai/wandb/define-metric-demo\" target=\"_blank\">https://wandb.ai/wandb/define-metric-demo</a><br/>\n",
              "                Run page: <a href=\"https://wandb.ai/wandb/define-metric-demo/runs/3iu6hd70\" target=\"_blank\">https://wandb.ai/wandb/define-metric-demo/runs/3iu6hd70</a><br/>\n",
              "                Run data is saved locally in <code>/content/wandb/run-20210518_035942-3iu6hd70</code><br/><br/>\n",
              "            "
            ],
            "text/plain": [
              "<IPython.core.display.HTML object>"
            ]
          },
          "metadata": {
            "tags": []
          }
        }
      ]
    }
  ]
}