{
  "nbformat": 4,
  "nbformat_minor": 0,
  "metadata": {
    "colab": {
      "name": "Define a custom x-axis using define metric",
      "provenance": [],
      "authorship_tag": "ABX9TyPrUMguF6N/2zAnZJnqlfQH",
      "include_colab_link": true
    },
    "kernelspec": {
      "name": "python3",
      "display_name": "Python 3"
    },
    "language_info": {
      "name": "python"
    }
  },
  "cells": [
    {
      "cell_type": "markdown",
      "metadata": {
        "id": "view-in-github",
        "colab_type": "text"
      },
      "source": [
        "<a href=\"https://colab.research.google.com/github/KyleGoyette/define-metric-demo/blob/main/colab_define_a_custom_x_axis_using_define_metric.ipynb\" target=\"_parent\"><img src=\"https://colab.research.google.com/assets/colab-badge.svg\" alt=\"Open In Colab\"/></a>"
      ]
    },
    {
      "cell_type": "code",
      "metadata": {
        "id": "xcufq0eKiHLL"
      },
      "source": [
        "! pip install wandb &> /dev/null"
      ],
      "execution_count": 1,
      "outputs": []
    },
    {
      "cell_type": "code",
      "metadata": {
        "colab": {
          "base_uri": "https://localhost:8080/",
          "height": 153
        },
        "id": "9EhmlY3agnPB",
        "outputId": "a911a700-0da9-4c74-bc9f-358fece56dd8"
      },
      "source": [
        "\n",
        "import wandb\n",
        "import numpy as np\n",
        "\n",
        "wandb.init(entity=\"wandb\", project=\"define-metric-demo\")\n",
        "# define our custom x axis metric\n",
        "wandb.define_metric(\"custom_step\")\n",
        "# define which metrics will be plotted against it\n",
        "wandb.define_metric(\"validation_loss\", step_metric='custom_step')\n",
        "for i in range(10):\n",
        "  log_dict = {\n",
        "      \"train_loss\": 1/(i+1),\n",
        "      \"train_accuracy\": np.exp(i)/(np.exp(i)+1),\n",
        "      \"custom_step\": i**2,\n",
        "      \"validation_loss\": 1/(i+1)**2   \n",
        "  }\n",
        "  wandb.log(log_dict)"
      ],
      "execution_count": 2,
      "outputs": [
        {
          "output_type": "display_data",
          "data": {
            "application/javascript": [
              "\n",
              "        window._wandbApiKey = new Promise((resolve, reject) => {\n",
              "            function loadScript(url) {\n",
              "            return new Promise(function(resolve, reject) {\n",
              "                let newScript = document.createElement(\"script\");\n",
              "                newScript.onerror = reject;\n",
              "                newScript.onload = resolve;\n",
              "                document.body.appendChild(newScript);\n",
              "                newScript.src = url;\n",
              "            });\n",
              "            }\n",
              "            loadScript(\"https://cdn.jsdelivr.net/npm/postmate/build/postmate.min.js\").then(() => {\n",
              "            const iframe = document.createElement('iframe')\n",
              "            iframe.style.cssText = \"width:0;height:0;border:none\"\n",
              "            document.body.appendChild(iframe)\n",
              "            const handshake = new Postmate({\n",
              "                container: iframe,\n",
              "                url: 'https://wandb.ai/authorize'\n",
              "            });\n",
              "            const timeout = setTimeout(() => reject(\"Couldn't auto authenticate\"), 5000)\n",
              "            handshake.then(function(child) {\n",
              "                child.on('authorize', data => {\n",
              "                    clearTimeout(timeout)\n",
              "                    resolve(data)\n",
              "                });\n",
              "            });\n",
              "            })\n",
              "        });\n",
              "    "
            ],
            "text/plain": [
              "<IPython.core.display.Javascript object>"
            ]
          },
          "metadata": {
            "tags": []
          }
        },
        {
          "output_type": "stream",
          "text": [
            "\u001b[34m\u001b[1mwandb\u001b[0m: Appending key for api.wandb.ai to your netrc file: /root/.netrc\n"
          ],
          "name": "stderr"
        },
        {
          "output_type": "display_data",
          "data": {
            "text/html": [
              "\n",
              "                Tracking run with wandb version 0.10.30<br/>\n",
              "                Syncing run <strong style=\"color:#cdcd00\">stellar-bush-2</strong> to <a href=\"https://wandb.ai\" target=\"_blank\">Weights & Biases</a> <a href=\"https://docs.wandb.com/integrations/jupyter.html\" target=\"_blank\">(Documentation)</a>.<br/>\n",
              "                Project page: <a href=\"https://wandb.ai/wandb/define-metric-demo\" target=\"_blank\">https://wandb.ai/wandb/define-metric-demo</a><br/>\n",
              "                Run page: <a href=\"https://wandb.ai/wandb/define-metric-demo/runs/1b408e95\" target=\"_blank\">https://wandb.ai/wandb/define-metric-demo/runs/1b408e95</a><br/>\n",
              "                Run data is saved locally in <code>/content/wandb/run-20210518_034351-1b408e95</code><br/><br/>\n",
              "            "
            ],
            "text/plain": [
              "<IPython.core.display.HTML object>"
            ]
          },
          "metadata": {
            "tags": []
          }
        }
      ]
    }
  ]
}